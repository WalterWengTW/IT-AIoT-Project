{
 "cells": [
  {
   "cell_type": "code",
   "execution_count": 1,
   "metadata": {},
   "outputs": [],
   "source": [
    "import cv2\n",
    " \n",
    "mouse_haar = cv2.CascadeClassifier(\"haarcascade_frontalface_default.xml\")\n",
    " \n",
    "cam = cv2.VideoCapture(0)\n",
    " \n",
    "while True:\n",
    "    _, img = cam.read()\n",
    "    gray_img = cv2.cvtColor(img, cv2.COLOR_BGR2GRAY)\n",
    "        \n",
    "        #http://docs.opencv.org/2.4/modules/objdetect/doc/cascade_classification.html\n",
    "    mouse = mouse_haar.detectMultiScale(gray_img, 1.2, 3) # 调整参数\n",
    "\n",
    "    i = 0\n",
    "    for mouse_x,mouse_y,mouse_w,mouse_h in mouse:\n",
    "        cv2.rectangle(img, (mouse_x, mouse_y), (mouse_x+mouse_w, mouse_y+mouse_h), (0,255,0), 2)\n",
    "        s = str(mouse_x)+','+str(mouse_y)\n",
    "        cv2.putText(img, s, (20, 30*(i+1)), cv2.FONT_HERSHEY_SIMPLEX, 1, (0, 255, 255), 1, cv2.LINE_AA)\n",
    "        i+=1\n",
    "     \n",
    "    cv2.imshow('img', img)\n",
    "    key = cv2.waitKey(30) & 0xff\n",
    "    if key == 27:\n",
    "        break\n",
    " \n",
    "cam.release()\n",
    "cv2.destroyAllWindows()"
   ]
  },
  {
   "cell_type": "code",
   "execution_count": null,
   "metadata": {},
   "outputs": [],
   "source": []
  }
 ],
 "metadata": {
  "kernelspec": {
   "display_name": "Python 3",
   "language": "python",
   "name": "python3"
  },
  "language_info": {
   "codemirror_mode": {
    "name": "ipython",
    "version": 3
   },
   "file_extension": ".py",
   "mimetype": "text/x-python",
   "name": "python",
   "nbconvert_exporter": "python",
   "pygments_lexer": "ipython3",
   "version": "3.6.8"
  }
 },
 "nbformat": 4,
 "nbformat_minor": 2
}
