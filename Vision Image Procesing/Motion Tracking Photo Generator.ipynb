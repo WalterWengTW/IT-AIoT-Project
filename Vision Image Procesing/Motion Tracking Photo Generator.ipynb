{
 "cells": [
  {
   "cell_type": "code",
   "execution_count": 1,
   "metadata": {},
   "outputs": [],
   "source": [
    "import cv2\n",
    "import time\n",
    "import numpy as np"
   ]
  },
  {
   "cell_type": "code",
   "execution_count": 2,
   "metadata": {},
   "outputs": [],
   "source": [
    "width = 640\n",
    "height = 480\n",
    "number = 50\n",
    "frameSet = np.zeros(shape=(number,height,width),dtype='uint8')"
   ]
  },
  {
   "cell_type": "code",
   "execution_count": 3,
   "metadata": {},
   "outputs": [],
   "source": [
    "cap = cv2.VideoCapture(0)\n",
    "cap.set(cv2.CAP_PROP_FRAME_WIDTH, width)\n",
    "cap.set(cv2.CAP_PROP_FRAME_HEIGHT, height)\n",
    "subtractor = cv2.createBackgroundSubtractorMOG2(history=20, varThreshold=40, detectShadows=True)"
   ]
  },
  {
   "cell_type": "code",
   "execution_count": 4,
   "metadata": {},
   "outputs": [],
   "source": [
    "for times in range(0,20):   \n",
    "    i=0\n",
    "    cap = cv2.VideoCapture(0)\n",
    "    cap.set(cv2.CAP_PROP_FRAME_WIDTH, width)\n",
    "    cap.set(cv2.CAP_PROP_FRAME_HEIGHT, height)\n",
    "    subtractor = cv2.createBackgroundSubtractorMOG2(history=20, varThreshold=40, detectShadows=True)\n",
    "    ret, frame = cap.read()\n",
    "    frame_p = subtractor.apply(frame)\n",
    "    while True:\n",
    "        ret, frame = cap.read()\n",
    "        mask = subtractor.apply(frame)\n",
    "        diff = cv2.absdiff(mask,frame_p)\n",
    "\n",
    "        cv2.imshow('Frames', diff)\n",
    "        frame_p = mask\n",
    "\n",
    "        frameSet[i] = diff\n",
    "        k = cv2.waitKey(1) & 0xFF\n",
    "        i+=1\n",
    "        time.sleep(0.01)\n",
    "        if k == ord('q') or i>= number:\n",
    "            cap.release()\n",
    "            cv2.destroyAllWindows()\n",
    "            break\n",
    "    X_frame = cv2.absdiff(frame_p,frame_p)\n",
    "    for i in range(10,number-1):\n",
    "        if i % 3 == 0: \n",
    "            diffs = cv2.absdiff(frameSet[i],frameSet[i+1])\n",
    "            X_frame = cv2.add(X_frame,diffs)\n",
    "    cv2.imwrite('left%d.jpg'%times, X_frame)"
   ]
  },
  {
   "cell_type": "code",
   "execution_count": null,
   "metadata": {},
   "outputs": [],
   "source": []
  }
 ],
 "metadata": {
  "kernelspec": {
   "display_name": "Python 3",
   "language": "python",
   "name": "python3"
  },
  "language_info": {
   "codemirror_mode": {
    "name": "ipython",
    "version": 3
   },
   "file_extension": ".py",
   "mimetype": "text/x-python",
   "name": "python",
   "nbconvert_exporter": "python",
   "pygments_lexer": "ipython3",
   "version": "3.6.8"
  }
 },
 "nbformat": 4,
 "nbformat_minor": 2
}
